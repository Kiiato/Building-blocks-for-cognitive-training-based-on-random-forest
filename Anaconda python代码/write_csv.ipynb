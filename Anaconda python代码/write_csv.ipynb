{
 "cells": [
  {
   "cell_type": "code",
   "execution_count": 17,
   "metadata": {
    "scrolled": false
   },
   "outputs": [
    {
     "name": "stdout",
     "output_type": "stream",
     "text": [
      "蓝牙连接成功！！！\n",
      "[409, 3294, 3081, 3516, 430, 3503, 3495, 3529, 410, 3363, 2606, 3078, 398, 392, 392, 397, 0]\n",
      "[409, 3303, 3086, 3513, 433, 3503, 3492, 3523, 410, 3362, 2606, 3081, 397, 392, 391, 397, 0]\n",
      "[409, 3305, 3088, 3512, 432, 3503, 3492, 3524, 410, 3364, 2606, 3079, 399, 390, 395, 397, 0]\n",
      "[411, 3303, 3088, 3513, 431, 3502, 3495, 3526, 408, 3367, 2608, 3080, 398, 391, 393, 398, 0]\n",
      "[407, 3305, 3089, 3514, 432, 3506, 3493, 3526, 411, 3365, 2608, 3078, 399, 390, 393, 398, 0]\n",
      "[409, 3299, 3091, 3515, 430, 3508, 3500, 3528, 411, 3368, 2595, 3101, 400, 389, 394, 398, 0]\n",
      "[410, 3304, 3090, 3515, 431, 3509, 3492, 3528, 411, 3370, 2600, 3100, 397, 390, 393, 398, 0]\n",
      "[408, 3305, 3091, 3515, 431, 3510, 3497, 3527, 412, 3370, 2594, 3100, 399, 391, 395, 399, 0]\n",
      "[410, 3306, 3089, 3515, 433, 3509, 3497, 3526, 410, 3370, 2594, 3100, 400, 389, 394, 397, 0]\n",
      "[409, 3306, 3090, 3517, 431, 3511, 3497, 3526, 412, 3371, 2596, 3099, 398, 390, 394, 400, 0]\n",
      "[407, 3297, 3089, 3516, 432, 3509, 3498, 3528, 410, 3369, 2594, 3104, 398, 389, 396, 399, 0]\n",
      "[410, 3302, 3088, 3512, 429, 3510, 3497, 3528, 411, 3371, 2598, 3104, 399, 391, 395, 398, 0]\n",
      "[410, 3303, 3089, 3513, 432, 3509, 3498, 3527, 410, 3371, 2595, 3102, 399, 389, 395, 398, 0]\n",
      "[409, 3300, 3090, 3513, 431, 3510, 3499, 3526, 413, 3371, 2596, 3100, 398, 391, 394, 399, 0]\n",
      "[407, 3302, 3089, 3514, 432, 3509, 3499, 3528, 410, 3368, 2594, 3100, 398, 391, 393, 397, 0]\n",
      "[410, 3292, 3087, 3516, 433, 3510, 3499, 3526, 414, 3369, 2596, 3103, 399, 390, 395, 398, 0]\n",
      "[408, 3301, 3091, 3511, 429, 3511, 3494, 3528, 411, 3375, 2599, 3106, 400, 391, 391, 398, 0]\n",
      "[407, 3303, 3095, 3513, 430, 3512, 3494, 3527, 411, 3377, 2601, 3107, 396, 391, 391, 398, 0]\n",
      "[406, 3303, 3092, 3512, 431, 3514, 3494, 3529, 412, 3376, 2602, 3106, 401, 388, 392, 396, 0]\n",
      "[410, 3304, 3104, 3514, 430, 3512, 3495, 3528, 411, 3375, 2602, 3105, 398, 389, 396, 400, 0]\n",
      "[409, 3359, 3046, 3521, 430, 3472, 3143, 3541, 412, 3297, 2175, 3091, 399, 390, 393, 399, 0]\n",
      "[408, 3363, 3042, 3523, 431, 3473, 3142, 3531, 410, 3300, 2174, 3097, 398, 392, 394, 398, 0]\n",
      "[409, 3365, 3044, 3521, 430, 3472, 3142, 3531, 412, 3301, 2173, 3095, 398, 391, 395, 399, 0]\n",
      "[409, 3362, 3044, 3519, 431, 3472, 3143, 3532, 411, 3299, 2175, 3097, 400, 389, 394, 398, 0]\n",
      "[409, 3363, 3043, 3521, 431, 3471, 3140, 3532, 412, 3299, 2174, 3099, 398, 390, 395, 397, 0]\n"
     ]
    },
    {
     "ename": "KeyboardInterrupt",
     "evalue": "",
     "output_type": "error",
     "traceback": [
      "\u001b[1;31m---------------------------------------------------------------------------\u001b[0m",
      "\u001b[1;31mKeyboardInterrupt\u001b[0m                         Traceback (most recent call last)",
      "\u001b[1;32m<ipython-input-17-808cadf78434>\u001b[0m in \u001b[0;36m<module>\u001b[1;34m\u001b[0m\n\u001b[0;32m     38\u001b[0m         \u001b[1;31m#if(ser.inWaiting()!=0):\u001b[0m\u001b[1;33m\u001b[0m\u001b[1;33m\u001b[0m\u001b[1;33m\u001b[0m\u001b[0m\n\u001b[0;32m     39\u001b[0m         \u001b[1;31m#read_data=ser.read(1)\u001b[0m\u001b[1;33m\u001b[0m\u001b[1;33m\u001b[0m\u001b[1;33m\u001b[0m\u001b[0m\n\u001b[1;32m---> 40\u001b[1;33m         \u001b[0mread_data\u001b[0m\u001b[1;33m=\u001b[0m\u001b[0mser\u001b[0m\u001b[1;33m.\u001b[0m\u001b[0mreadline\u001b[0m\u001b[1;33m(\u001b[0m\u001b[1;33m)\u001b[0m\u001b[1;33m\u001b[0m\u001b[1;33m\u001b[0m\u001b[0m\n\u001b[0m\u001b[0;32m     41\u001b[0m \u001b[1;31m#         print(read_data)\u001b[0m\u001b[1;33m\u001b[0m\u001b[1;33m\u001b[0m\u001b[1;33m\u001b[0m\u001b[0m\n\u001b[0;32m     42\u001b[0m         \u001b[1;32mif\u001b[0m \u001b[0mread_data\u001b[0m \u001b[1;33m==\u001b[0m \u001b[1;34mb''\u001b[0m\u001b[1;33m:\u001b[0m\u001b[1;33m\u001b[0m\u001b[1;33m\u001b[0m\u001b[0m\n",
      "\u001b[1;32mD:\\Anaconda3\\lib\\site-packages\\serial\\serialwin32.py\u001b[0m in \u001b[0;36mread\u001b[1;34m(self, size)\u001b[0m\n\u001b[0;32m    288\u001b[0m                     \u001b[0mctypes\u001b[0m\u001b[1;33m.\u001b[0m\u001b[0mbyref\u001b[0m\u001b[1;33m(\u001b[0m\u001b[0mself\u001b[0m\u001b[1;33m.\u001b[0m\u001b[0m_overlapped_read\u001b[0m\u001b[1;33m)\u001b[0m\u001b[1;33m,\u001b[0m\u001b[1;33m\u001b[0m\u001b[1;33m\u001b[0m\u001b[0m\n\u001b[0;32m    289\u001b[0m                     \u001b[0mctypes\u001b[0m\u001b[1;33m.\u001b[0m\u001b[0mbyref\u001b[0m\u001b[1;33m(\u001b[0m\u001b[0mrc\u001b[0m\u001b[1;33m)\u001b[0m\u001b[1;33m,\u001b[0m\u001b[1;33m\u001b[0m\u001b[1;33m\u001b[0m\u001b[0m\n\u001b[1;32m--> 290\u001b[1;33m                     True)\n\u001b[0m\u001b[0;32m    291\u001b[0m                 \u001b[1;32mif\u001b[0m \u001b[1;32mnot\u001b[0m \u001b[0mresult_ok\u001b[0m\u001b[1;33m:\u001b[0m\u001b[1;33m\u001b[0m\u001b[1;33m\u001b[0m\u001b[0m\n\u001b[0;32m    292\u001b[0m                     \u001b[1;32mif\u001b[0m \u001b[0mwin32\u001b[0m\u001b[1;33m.\u001b[0m\u001b[0mGetLastError\u001b[0m\u001b[1;33m(\u001b[0m\u001b[1;33m)\u001b[0m \u001b[1;33m!=\u001b[0m \u001b[0mwin32\u001b[0m\u001b[1;33m.\u001b[0m\u001b[0mERROR_OPERATION_ABORTED\u001b[0m\u001b[1;33m:\u001b[0m\u001b[1;33m\u001b[0m\u001b[1;33m\u001b[0m\u001b[0m\n",
      "\u001b[1;31mKeyboardInterrupt\u001b[0m: "
     ]
    }
   ],
   "source": [
    "import pandas as pd\n",
    "import numpy as np\n",
    "from sklearn.svm import SVC\n",
    "import joblib\n",
    "\n",
    "import serial\n",
    "\n",
    "from serial import Serial\n",
    "import serial.tools.list_ports\n",
    "import csv\n",
    "a=1\n",
    "# svc = joblib.load(\"svc_model.m\")\n",
    "# data=np.loadtxt('jm_data.csv',dtype=int,delimiter=',',unpack=False)\n",
    "# X=data[:,:16]\n",
    "# y=data[:,16]\n",
    "# svc.fit(X,y)\n",
    "\n",
    "# port_list = list(serial.tools.list_ports.comports())\n",
    "# comport_list=[]\n",
    "# #print(port_list)\n",
    "# if len(port_list) == 0:\n",
    "#     print('无可用串口')\n",
    "# else:\n",
    "#     for i in range(0,len(port_list)):\n",
    "#         comports = str(port_list[i]).split('-')  #split一下会得到COMX这样的信息\n",
    "#         comport_list.append(comports[0])\n",
    "#         print(comport_list[i])\n",
    "try:\n",
    "    ser = serial.Serial(\"com10\", 38400, timeout=0.5)\n",
    "    print(\"蓝牙连接成功！！！\")\n",
    "\n",
    "    csvfile = open('jm_mode3.csv','a+',newline='')\n",
    "    writer = csv.writer(csvfile,delimiter=',')\n",
    "    data=[]\n",
    "    n=16;\n",
    "    while 1:\n",
    "\n",
    "        #if(ser.inWaiting()!=0):\n",
    "        #read_data=ser.read(1)  \n",
    "        read_data=ser.readline()\n",
    "#         print(read_data)\n",
    "        if read_data == b'':\n",
    "            continue\n",
    "        elif read_data == b'quit':\n",
    "            break\n",
    "        else:\n",
    "            read_data=read_data.decode().split(\",\")\n",
    "            \n",
    "            for i in range(0,17):\n",
    "                data.append(int(read_data[i]))\n",
    "            print(data)\n",
    "            writer.writerow(data)\n",
    "            data=[]\n",
    "            \n",
    "            for i in range(17,34):\n",
    "                data.append(int(read_data[i]))\n",
    "            print(data)\n",
    "            writer.writerow(data)\n",
    "            data=[]\n",
    "            \n",
    "            for i in range(34,51):\n",
    "                data.append(int(read_data[i]))\n",
    "            print(data)\n",
    "            writer.writerow(data)\n",
    "            data=[]\n",
    "            \n",
    "            for i in range(51,68):\n",
    "                data.append(int(read_data[i]))\n",
    "            print(data)\n",
    "            writer.writerow(data)\n",
    "            data=[]\n",
    "            \n",
    "            for i in range(68,85):\n",
    "                data.append(int(read_data[i]))\n",
    "            print(data)\n",
    "            writer.writerow(data)\n",
    "            data=[]\n",
    "            \n",
    "            data=read_data=[]\n",
    "            \n",
    "    csvfile.close()\n",
    "    ser.close()\n",
    "except Exception as e:\n",
    "    print(\"---异常---：\",e)\n",
    "    csvfile.close()\n",
    "    ser.close()"
   ]
  },
  {
   "cell_type": "code",
   "execution_count": 18,
   "metadata": {},
   "outputs": [],
   "source": [
    "ser.close()\n",
    "csvfile.close()"
   ]
  },
  {
   "cell_type": "code",
   "execution_count": 4,
   "metadata": {},
   "outputs": [
    {
     "name": "stdout",
     "output_type": "stream",
     "text": [
      "[]\n"
     ]
    }
   ],
   "source": [
    "print(data)"
   ]
  },
  {
   "cell_type": "code",
   "execution_count": null,
   "metadata": {},
   "outputs": [],
   "source": []
  },
  {
   "cell_type": "code",
   "execution_count": null,
   "metadata": {},
   "outputs": [],
   "source": []
  }
 ],
 "metadata": {
  "kernelspec": {
   "display_name": "Python 3",
   "language": "python",
   "name": "python3"
  },
  "language_info": {
   "codemirror_mode": {
    "name": "ipython",
    "version": 3
   },
   "file_extension": ".py",
   "mimetype": "text/x-python",
   "name": "python",
   "nbconvert_exporter": "python",
   "pygments_lexer": "ipython3",
   "version": "3.7.4"
  }
 },
 "nbformat": 4,
 "nbformat_minor": 2
}
